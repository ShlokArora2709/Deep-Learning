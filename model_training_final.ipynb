{
  "metadata": {
    "kernelspec": {
      "language": "python",
      "display_name": "Python 3",
      "name": "python3"
    },
    "language_info": {
      "name": "python",
      "version": "3.10.13",
      "mimetype": "text/x-python",
      "codemirror_mode": {
        "name": "ipython",
        "version": 3
      },
      "pygments_lexer": "ipython3",
      "nbconvert_exporter": "python",
      "file_extension": ".py"
    },
    "kaggle": {
      "accelerator": "gpu",
      "dataSources": [
        {
          "sourceId": 7589488,
          "sourceType": "datasetVersion",
          "datasetId": 4391402
        }
      ],
      "dockerImageVersionId": 30648,
      "isInternetEnabled": true,
      "language": "python",
      "sourceType": "notebook",
      "isGpuEnabled": true
    },
    "colab": {
      "name": "model_training_final",
      "provenance": [],
      "include_colab_link": true
    }
  },
  "nbformat_minor": 0,
  "nbformat": 4,
  "cells": [
    {
      "cell_type": "markdown",
      "metadata": {
        "id": "view-in-github",
        "colab_type": "text"
      },
      "source": [
        "<a href=\"https://colab.research.google.com/github/ShlokArora2709/Data-science/blob/main/Deep_Learning/model_training_final.ipynb\" target=\"_parent\"><img src=\"https://colab.research.google.com/assets/colab-badge.svg\" alt=\"Open In Colab\"/></a>"
      ]
    },
    {
      "source": [
        "\n",
        "# IMPORTANT: RUN THIS CELL IN ORDER TO IMPORT YOUR KAGGLE DATA SOURCES\n",
        "# TO THE CORRECT LOCATION (/kaggle/input) IN YOUR NOTEBOOK,\n",
        "# THEN FEEL FREE TO DELETE THIS CELL.\n",
        "# NOTE: THIS NOTEBOOK ENVIRONMENT DIFFERS FROM KAGGLE'S PYTHON\n",
        "# ENVIRONMENT SO THERE MAY BE MISSING LIBRARIES USED BY YOUR\n",
        "# NOTEBOOK.\n",
        "\n",
        "import os\n",
        "import sys\n",
        "from tempfile import NamedTemporaryFile\n",
        "from urllib.request import urlopen\n",
        "from urllib.parse import unquote, urlparse\n",
        "from urllib.error import HTTPError\n",
        "from zipfile import ZipFile\n",
        "import tarfile\n",
        "import shutil\n",
        "\n",
        "CHUNK_SIZE = 40960\n",
        "DATA_SOURCE_MAPPING = 'food-classification-dataset:https%3A%2F%2Fstorage.googleapis.com%2Fkaggle-data-sets%2F4391402%2F7589488%2Fbundle%2Farchive.zip%3FX-Goog-Algorithm%3DGOOG4-RSA-SHA256%26X-Goog-Credential%3Dgcp-kaggle-com%2540kaggle-161607.iam.gserviceaccount.com%252F20240228%252Fauto%252Fstorage%252Fgoog4_request%26X-Goog-Date%3D20240228T055811Z%26X-Goog-Expires%3D259200%26X-Goog-SignedHeaders%3Dhost%26X-Goog-Signature%3D3d6e6da22ed4133ae43646e6b54e71cb38cc5b4d877b90bfb291d6b066bb404eb6c520574d5d713bd564012a43df01aa0492dc7c8aabb7ae4843a4d2d14756c704a595f392326fd304bdea774152f496234850d7c42617b86bb462e89cc4b6ec77e1fa2902e94cf4858e34ea8424ce5b4e9dc43289edceb21c814340ecf055b979e3d3790ffa6b23c76fef7d47790b0a5998a362d781ebb14d5caa944926e596443d67bca1d22c9acfae59c0d8d32f8e9359399a5f103456b69e27de5ee6e753c5ec6117817bfa8b99882df258eadc2c61aa9931be3a2cb8520bb0b1a193235a4dd1e8bdb3fda535edd5a842a52715cde8c44ce0843d61fdd7f4020c5bb53932'\n",
        "\n",
        "KAGGLE_INPUT_PATH='/kaggle/input'\n",
        "KAGGLE_WORKING_PATH='/kaggle/working'\n",
        "KAGGLE_SYMLINK='kaggle'\n",
        "\n",
        "!umount /kaggle/input/ 2> /dev/null\n",
        "shutil.rmtree('/kaggle/input', ignore_errors=True)\n",
        "os.makedirs(KAGGLE_INPUT_PATH, 0o777, exist_ok=True)\n",
        "os.makedirs(KAGGLE_WORKING_PATH, 0o777, exist_ok=True)\n",
        "\n",
        "try:\n",
        "  os.symlink(KAGGLE_INPUT_PATH, os.path.join(\"..\", 'input'), target_is_directory=True)\n",
        "except FileExistsError:\n",
        "  pass\n",
        "try:\n",
        "  os.symlink(KAGGLE_WORKING_PATH, os.path.join(\"..\", 'working'), target_is_directory=True)\n",
        "except FileExistsError:\n",
        "  pass\n",
        "\n",
        "for data_source_mapping in DATA_SOURCE_MAPPING.split(','):\n",
        "    directory, download_url_encoded = data_source_mapping.split(':')\n",
        "    download_url = unquote(download_url_encoded)\n",
        "    filename = urlparse(download_url).path\n",
        "    destination_path = os.path.join(KAGGLE_INPUT_PATH, directory)\n",
        "    try:\n",
        "        with urlopen(download_url) as fileres, NamedTemporaryFile() as tfile:\n",
        "            total_length = fileres.headers['content-length']\n",
        "            print(f'Downloading {directory}, {total_length} bytes compressed')\n",
        "            dl = 0\n",
        "            data = fileres.read(CHUNK_SIZE)\n",
        "            while len(data) > 0:\n",
        "                dl += len(data)\n",
        "                tfile.write(data)\n",
        "                done = int(50 * dl / int(total_length))\n",
        "                sys.stdout.write(f\"\\r[{'=' * done}{' ' * (50-done)}] {dl} bytes downloaded\")\n",
        "                sys.stdout.flush()\n",
        "                data = fileres.read(CHUNK_SIZE)\n",
        "            if filename.endswith('.zip'):\n",
        "              with ZipFile(tfile) as zfile:\n",
        "                zfile.extractall(destination_path)\n",
        "            else:\n",
        "              with tarfile.open(tfile.name) as tarfile:\n",
        "                tarfile.extractall(destination_path)\n",
        "            print(f'\\nDownloaded and uncompressed: {directory}')\n",
        "    except HTTPError as e:\n",
        "        print(f'Failed to load (likely expired) {download_url} to path {destination_path}')\n",
        "        continue\n",
        "    except OSError as e:\n",
        "        print(f'Failed to load {download_url} to path {destination_path}')\n",
        "        continue\n",
        "\n",
        "print('Data source import complete.')\n"
      ],
      "metadata": {
        "id": "derke0qwUHD0"
      },
      "cell_type": "code",
      "outputs": [],
      "execution_count": null
    },
    {
      "cell_type": "code",
      "source": [
        "import numpy as np\n",
        "from keras.applications import VGG16,InceptionResNetV2\n",
        "from keras.models import Model\n",
        "from keras.layers import LSTM, Dense, Dropout, Flatten\n",
        "from sklearn.ensemble import RandomForestClassifier\n",
        "from sklearn.metrics import accuracy_score\n",
        "from sklearn.model_selection import train_test_split\n",
        "from xgboost import XGBClassifier\n",
        "from lightgbm import LGBMClassifier\n",
        "import matplotlib.pyplot as plt\n",
        "\n",
        "import os, random, pathlib, warnings, itertools, math\n",
        "warnings.filterwarnings(\"ignore\")\n",
        "\n",
        "import tensorflow as tf\n",
        "from tensorflow import keras\n",
        "import tensorflow.keras.backend as K\n",
        "\n",
        "from keras import regularizers\n",
        "from tensorflow.keras import models,Sequential,layers\n",
        "from tensorflow.keras.models import Model\n",
        "from tensorflow.keras.models import load_model\n",
        "from tensorflow.keras.preprocessing import image\n",
        "from tensorflow.keras.applications import ResNet50\n",
        "from tensorflow.keras.applications.inception_v3 import InceptionV3,preprocess_input\n",
        "from tensorflow.keras.layers import Dense, Flatten, GlobalAveragePooling2D, Dense, Dropout,LeakyReLU\n",
        "from tensorflow.keras.optimizers import Adam\n",
        "from keras.applications.vgg16 import VGG16\n",
        "import cv2"
      ],
      "metadata": {
        "_uuid": "8f2839f25d086af736a60e9eeb907d3b93b6e0e5",
        "_cell_guid": "b1076dfc-b9ad-4769-8c92-a6c4dae69d19",
        "execution": {
          "iopub.status.busy": "2024-02-08T16:17:53.992411Z",
          "iopub.execute_input": "2024-02-08T16:17:53.993014Z",
          "iopub.status.idle": "2024-02-08T16:18:12.347016Z",
          "shell.execute_reply.started": "2024-02-08T16:17:53.99298Z",
          "shell.execute_reply": "2024-02-08T16:18:12.346207Z"
        },
        "trusted": true,
        "id": "SI1gUp9jUHD2"
      },
      "execution_count": null,
      "outputs": []
    },
    {
      "cell_type": "code",
      "source": [
        "IMAGE_SIZE=[256,256]\n",
        "train_datagen = image.ImageDataGenerator(rescale=1./255,\n",
        "    shear_range=0.2,\n",
        "    zoom_range=0.2,\n",
        "    horizontal_flip=True,\n",
        "    rotation_range=40,\n",
        "    brightness_range=[0.8, 1.2],\n",
        "    fill_mode='nearest')\n",
        "\n",
        "test_datagen = image.ImageDataGenerator(rescale = 1./255)\n",
        "\n",
        "training_set = train_datagen.flow_from_directory(\n",
        "    '/kaggle/input/food-classification-dataset/dataset/train',\n",
        "    target_size = IMAGE_SIZE,\n",
        "    batch_size = 64,\n",
        "    class_mode = 'categorical')\n",
        "\n",
        "test_set = test_datagen.flow_from_directory(\n",
        "    '/kaggle/input/food-classification-dataset/dataset/test',\n",
        "    target_size = IMAGE_SIZE,\n",
        "    batch_size = 64,\n",
        "    class_mode = 'categorical')\n"
      ],
      "metadata": {
        "execution": {
          "iopub.status.busy": "2024-02-08T16:18:12.348422Z",
          "iopub.execute_input": "2024-02-08T16:18:12.348724Z",
          "iopub.status.idle": "2024-02-08T16:18:13.825544Z",
          "shell.execute_reply.started": "2024-02-08T16:18:12.348699Z",
          "shell.execute_reply": "2024-02-08T16:18:13.824547Z"
        },
        "trusted": true,
        "id": "vk8O53j7UHD2"
      },
      "execution_count": null,
      "outputs": []
    },
    {
      "cell_type": "code",
      "source": [
        "test_set.class_indices"
      ],
      "metadata": {
        "execution": {
          "iopub.status.busy": "2024-02-08T16:18:18.697511Z",
          "iopub.execute_input": "2024-02-08T16:18:18.698374Z",
          "iopub.status.idle": "2024-02-08T16:18:18.707004Z",
          "shell.execute_reply.started": "2024-02-08T16:18:18.698342Z",
          "shell.execute_reply": "2024-02-08T16:18:18.705878Z"
        },
        "trusted": true,
        "id": "J92yaKIJUHD3"
      },
      "execution_count": null,
      "outputs": []
    },
    {
      "cell_type": "code",
      "source": [
        "training_set.class_indices"
      ],
      "metadata": {
        "execution": {
          "iopub.status.busy": "2024-02-08T16:18:22.259506Z",
          "iopub.execute_input": "2024-02-08T16:18:22.260332Z",
          "iopub.status.idle": "2024-02-08T16:18:22.267054Z",
          "shell.execute_reply.started": "2024-02-08T16:18:22.260301Z",
          "shell.execute_reply": "2024-02-08T16:18:22.266198Z"
        },
        "trusted": true,
        "id": "3vG_g_9oUHD3"
      },
      "execution_count": null,
      "outputs": []
    },
    {
      "cell_type": "code",
      "source": [
        "base= InceptionResNetV2(weights='imagenet', include_top=False)\n",
        "\n",
        "for layer in base.layers:\n",
        "    layer.trainable = True\n",
        "    if isinstance(layer, tf.keras.layers.Conv2D):\n",
        "        layer.kernel_regularizer = kernel_regularizer=regularizers.L2(0.005)\n",
        "\n",
        "# Find the index of the layer where 'mixed9' is present\n",
        "block8_1_mixed = base.layers.index(next(layer for layer in base.layers if layer.name == 'block8_1_mixed'))\n",
        "\n",
        "# Set trainable to False for layers before 'mixed9'\n",
        "for layer in base.layers[:block8_1_mixed]:\n",
        "    layer.trainable = False\n",
        "\n",
        "for layer in base.layers:\n",
        "    print(layer.name, layer.trainable)"
      ],
      "metadata": {
        "execution": {
          "iopub.status.busy": "2024-02-08T16:18:33.782245Z",
          "iopub.execute_input": "2024-02-08T16:18:33.783058Z",
          "iopub.status.idle": "2024-02-08T16:18:48.211482Z",
          "shell.execute_reply.started": "2024-02-08T16:18:33.783028Z",
          "shell.execute_reply": "2024-02-08T16:18:48.210625Z"
        },
        "collapsed": true,
        "jupyter": {
          "outputs_hidden": true
        },
        "trusted": true,
        "id": "qiNsGup-UHD3"
      },
      "execution_count": null,
      "outputs": []
    },
    {
      "cell_type": "code",
      "source": [
        "I = InceptionV3(input_shape=IMAGE_SIZE + [3], weights='imagenet', include_top=False)\n",
        "\n",
        "for layer in I.layers:\n",
        "    layer.trainable = True\n",
        "    if isinstance(layer, tf.keras.layers.Conv2D):\n",
        "        layer.kernel_regularizer = kernel_regularizer=regularizers.L1L2(0.1)\n",
        "\n",
        "# Find the index of the layer where 'mixed9' is present\n",
        "mixed9_index = I.layers.index(next(layer for layer in I.layers if layer.name == 'mixed9'))\n",
        "\n",
        "# Set trainable to False for layers before 'mixed9'\n",
        "for layer in I.layers[:mixed9_index]:\n",
        "    layer.trainable = False\n",
        "\n",
        "# Print the trainable status of each layer\n",
        "for layer in I.layers:\n",
        "    print(layer.name, layer.trainable)\n",
        "\n",
        "I.summary()\n"
      ],
      "metadata": {
        "trusted": true,
        "id": "j0fYyx6IUHD4"
      },
      "execution_count": null,
      "outputs": []
    },
    {
      "cell_type": "code",
      "source": [
        "model = Sequential()\n",
        "model.add(base)\n",
        "model.add(GlobalAveragePooling2D())\n",
        "model.add(Dropout(0.5))\n",
        "model.add(Dense(1024,activation='relu'))\n",
        "model.add(Dropout(0.5))\n",
        "model.add(Dense(36,activation='softmax'))\n",
        "\n",
        "model.compile(\n",
        "  loss='categorical_crossentropy',\n",
        "  optimizer='adam',\n",
        "  metrics=['accuracy']\n",
        ")\n",
        "model.summary()"
      ],
      "metadata": {
        "execution": {
          "iopub.status.busy": "2024-02-08T16:18:58.316964Z",
          "iopub.execute_input": "2024-02-08T16:18:58.317326Z",
          "iopub.status.idle": "2024-02-08T16:19:00.187759Z",
          "shell.execute_reply.started": "2024-02-08T16:18:58.317298Z",
          "shell.execute_reply": "2024-02-08T16:19:00.186878Z"
        },
        "trusted": true,
        "id": "jQOvICwfUHD4"
      },
      "execution_count": null,
      "outputs": []
    },
    {
      "cell_type": "code",
      "source": [
        "model.compile(\n",
        "  loss='categorical_crossentropy',\n",
        "  optimizer=Adam(),\n",
        "  metrics=['accuracy']\n",
        ")\n",
        "#keras.optimizers.RMSprop(lr=1e-5)"
      ],
      "metadata": {
        "execution": {
          "iopub.status.busy": "2024-02-08T16:19:05.269175Z",
          "iopub.execute_input": "2024-02-08T16:19:05.269874Z",
          "iopub.status.idle": "2024-02-08T16:19:05.298123Z",
          "shell.execute_reply.started": "2024-02-08T16:19:05.26984Z",
          "shell.execute_reply": "2024-02-08T16:19:05.29731Z"
        },
        "trusted": true,
        "id": "8LbgqUI0UHD4"
      },
      "execution_count": null,
      "outputs": []
    },
    {
      "cell_type": "code",
      "source": [
        "his = model.fit_generator(\n",
        "  training_set,\n",
        "  validation_data=test_set,\n",
        "  epochs=7)"
      ],
      "metadata": {
        "execution": {
          "iopub.status.busy": "2024-02-08T16:19:41.460878Z",
          "iopub.execute_input": "2024-02-08T16:19:41.461552Z",
          "iopub.status.idle": "2024-02-08T16:59:03.480605Z",
          "shell.execute_reply.started": "2024-02-08T16:19:41.461522Z",
          "shell.execute_reply": "2024-02-08T16:59:03.479818Z"
        },
        "trusted": true,
        "id": "EBfuGKfzUHD4"
      },
      "execution_count": null,
      "outputs": []
    },
    {
      "cell_type": "code",
      "source": [
        "model.save(\"InceptionResNet_DataV5_96.h5\")"
      ],
      "metadata": {
        "execution": {
          "iopub.status.busy": "2024-02-08T14:19:23.104927Z",
          "iopub.execute_input": "2024-02-08T14:19:23.105318Z",
          "iopub.status.idle": "2024-02-08T14:19:24.79559Z",
          "shell.execute_reply.started": "2024-02-08T14:19:23.105287Z",
          "shell.execute_reply": "2024-02-08T14:19:24.794801Z"
        },
        "trusted": true,
        "id": "b-uD23x_UHD4"
      },
      "execution_count": null,
      "outputs": []
    },
    {
      "cell_type": "code",
      "source": [
        "category = {\n",
        "    0: 'Bacon',\n",
        "    1: 'Banana',\n",
        "    2: 'Bean',\n",
        "    3: 'Bitter_gourd',\n",
        "    4: 'Bottle_gourd',\n",
        "    5: 'Bread',\n",
        "    6: 'Brinjal',\n",
        "    7: 'Broccoli',\n",
        "    8: 'Butter',\n",
        "    9: 'Cabbage',\n",
        "    10: 'Capsicum',\n",
        "    11: 'Carrots',\n",
        "    12: 'Cauliflower',\n",
        "    13: 'Cheese',\n",
        "    14: 'Chicken',\n",
        "    15: 'Chilli',\n",
        "    16: 'Corn',\n",
        "    17: 'Cucumber',\n",
        "    18: 'Eggplant',\n",
        "    19: 'Eggs',\n",
        "    20: 'Fish',\n",
        "    21: 'Garlic',\n",
        "    22: 'Ginger',\n",
        "    23: 'Lettuce',\n",
        "    24: 'Meat',\n",
        "    25: 'Milk',\n",
        "    26: 'Noodles-pasta',\n",
        "    27: 'Onions',\n",
        "    28: 'Papaya',\n",
        "    29: 'Potatoes',\n",
        "    30: 'Pumpkin',\n",
        "    31: 'Radish',\n",
        "    32: 'Rice',\n",
        "    33: 'Spinach',\n",
        "    34: 'Tomato',\n",
        "    35: 'Yogurt'\n",
        "}\n"
      ],
      "metadata": {
        "execution": {
          "iopub.status.busy": "2024-02-08T14:21:25.528232Z",
          "iopub.execute_input": "2024-02-08T14:21:25.528923Z",
          "iopub.status.idle": "2024-02-08T14:21:25.536345Z",
          "shell.execute_reply.started": "2024-02-08T14:21:25.528888Z",
          "shell.execute_reply": "2024-02-08T14:21:25.535463Z"
        },
        "trusted": true,
        "id": "p5K8FTnmUHD4"
      },
      "execution_count": null,
      "outputs": []
    },
    {
      "cell_type": "code",
      "source": [
        "import json\n",
        "with open(\"food_map.json\", \"w\") as json_file:\n",
        "    json.dump(category, json_file, indent=4)"
      ],
      "metadata": {
        "execution": {
          "iopub.status.busy": "2024-02-08T14:21:31.551051Z",
          "iopub.execute_input": "2024-02-08T14:21:31.551425Z",
          "iopub.status.idle": "2024-02-08T14:21:31.557492Z",
          "shell.execute_reply.started": "2024-02-08T14:21:31.551396Z",
          "shell.execute_reply": "2024-02-08T14:21:31.556309Z"
        },
        "trusted": true,
        "id": "KWb_SpxJUHD5"
      },
      "execution_count": null,
      "outputs": []
    },
    {
      "cell_type": "code",
      "source": [
        "\n",
        "def predict_image(filename,model):\n",
        "    img_ = image.load_img(filename, target_size=IMAGE_SIZE)\n",
        "    img_array = image.img_to_array(img_)\n",
        "    img_processed = np.expand_dims(img_array, axis=0)\n",
        "    img_processed /= 255.\n",
        "\n",
        "    prediction = model.predict(img_processed)\n",
        "    index = np.argmax(prediction)\n",
        "\n",
        "    plt.title(\"Prediction - {}\".format(category[index]))\n",
        "    plt.imshow(img_array)"
      ],
      "metadata": {
        "execution": {
          "iopub.status.busy": "2024-02-08T14:21:47.004494Z",
          "iopub.execute_input": "2024-02-08T14:21:47.004986Z",
          "iopub.status.idle": "2024-02-08T14:21:47.011054Z",
          "shell.execute_reply.started": "2024-02-08T14:21:47.004951Z",
          "shell.execute_reply": "2024-02-08T14:21:47.010026Z"
        },
        "trusted": true,
        "id": "jHGXHxTDUHD5"
      },
      "execution_count": null,
      "outputs": []
    },
    {
      "cell_type": "code",
      "source": [
        "predict_image('/kaggle/input/food-classification-dataset/dataset/test/Corn/Corn12.jpg',model)"
      ],
      "metadata": {
        "execution": {
          "iopub.status.busy": "2024-02-08T14:21:52.421608Z",
          "iopub.execute_input": "2024-02-08T14:21:52.422316Z",
          "iopub.status.idle": "2024-02-08T14:21:57.278006Z",
          "shell.execute_reply.started": "2024-02-08T14:21:52.422284Z",
          "shell.execute_reply": "2024-02-08T14:21:57.276825Z"
        },
        "trusted": true,
        "id": "4HBDTfwEUHD5"
      },
      "execution_count": null,
      "outputs": []
    },
    {
      "cell_type": "code",
      "source": [
        "predict_image('/kaggle/input/food-classification-dataset/dataset/test/Broccoli/1214.jpg',model)"
      ],
      "metadata": {
        "execution": {
          "iopub.status.busy": "2024-02-08T14:22:27.144455Z",
          "iopub.execute_input": "2024-02-08T14:22:27.144885Z",
          "iopub.status.idle": "2024-02-08T14:22:27.547037Z",
          "shell.execute_reply.started": "2024-02-08T14:22:27.144851Z",
          "shell.execute_reply": "2024-02-08T14:22:27.546104Z"
        },
        "trusted": true,
        "id": "QB0hjktmUHD5"
      },
      "execution_count": null,
      "outputs": []
    },
    {
      "cell_type": "code",
      "source": [
        "predict_image('/kaggle/input/food-classification-dataset/dataset/test/Yogurt/yogurt.123.jpg',model)"
      ],
      "metadata": {
        "execution": {
          "iopub.status.busy": "2024-02-08T14:23:47.107692Z",
          "iopub.execute_input": "2024-02-08T14:23:47.108614Z",
          "iopub.status.idle": "2024-02-08T14:23:47.484366Z",
          "shell.execute_reply.started": "2024-02-08T14:23:47.108579Z",
          "shell.execute_reply": "2024-02-08T14:23:47.483452Z"
        },
        "trusted": true,
        "id": "tdHXs1Z9UHD5"
      },
      "execution_count": null,
      "outputs": []
    },
    {
      "cell_type": "code",
      "source": [
        "predict_image('/kaggle/input/food-classification-dataset/dataset/test/Milk/Milk_44.jpg',model)"
      ],
      "metadata": {
        "execution": {
          "iopub.status.busy": "2024-02-08T14:23:58.459033Z",
          "iopub.execute_input": "2024-02-08T14:23:58.459983Z",
          "iopub.status.idle": "2024-02-08T14:23:58.832479Z",
          "shell.execute_reply.started": "2024-02-08T14:23:58.459947Z",
          "shell.execute_reply": "2024-02-08T14:23:58.831545Z"
        },
        "trusted": true,
        "id": "7LihYkyAUHD5"
      },
      "execution_count": null,
      "outputs": []
    },
    {
      "cell_type": "code",
      "source": [
        "predict_image('/kaggle/input/food-classification-dataset/dataset/test/Meat/ad.14.png',model)"
      ],
      "metadata": {
        "execution": {
          "iopub.status.busy": "2024-02-08T14:24:15.804049Z",
          "iopub.execute_input": "2024-02-08T14:24:15.804823Z",
          "iopub.status.idle": "2024-02-08T14:24:16.211442Z",
          "shell.execute_reply.started": "2024-02-08T14:24:15.80478Z",
          "shell.execute_reply": "2024-02-08T14:24:16.210493Z"
        },
        "trusted": true,
        "id": "PLw3UXQIUHD5"
      },
      "execution_count": null,
      "outputs": []
    },
    {
      "cell_type": "code",
      "source": [
        "predict_image('/kaggle/input/food-classification-dataset/dataset/test/Butter/butter.154.jpg',model)"
      ],
      "metadata": {
        "execution": {
          "iopub.status.busy": "2024-02-08T14:25:11.266391Z",
          "iopub.execute_input": "2024-02-08T14:25:11.267106Z",
          "iopub.status.idle": "2024-02-08T14:25:11.689538Z",
          "shell.execute_reply.started": "2024-02-08T14:25:11.26707Z",
          "shell.execute_reply": "2024-02-08T14:25:11.688452Z"
        },
        "trusted": true,
        "id": "WgkR6brUUHD5"
      },
      "execution_count": null,
      "outputs": []
    },
    {
      "cell_type": "code",
      "source": [
        "predict_image('/kaggle/input/food-classification-dataset/dataset/test/Cheese/cheese.121.jpg',model)"
      ],
      "metadata": {
        "execution": {
          "iopub.status.busy": "2024-02-08T14:25:49.068732Z",
          "iopub.execute_input": "2024-02-08T14:25:49.069604Z",
          "iopub.status.idle": "2024-02-08T14:25:49.46209Z",
          "shell.execute_reply.started": "2024-02-08T14:25:49.069571Z",
          "shell.execute_reply": "2024-02-08T14:25:49.461169Z"
        },
        "trusted": true,
        "id": "YAsdQ6Z6UHD5"
      },
      "execution_count": null,
      "outputs": []
    },
    {
      "cell_type": "code",
      "source": [
        "predict_image('/kaggle/input/food-classification-dataset/dataset/test/Carrots/1312.jpg',model)"
      ],
      "metadata": {
        "execution": {
          "iopub.status.busy": "2024-02-08T14:26:19.201398Z",
          "iopub.execute_input": "2024-02-08T14:26:19.201803Z",
          "iopub.status.idle": "2024-02-08T14:26:19.616533Z",
          "shell.execute_reply.started": "2024-02-08T14:26:19.201767Z",
          "shell.execute_reply": "2024-02-08T14:26:19.615588Z"
        },
        "trusted": true,
        "id": "cL9r4a1JUHD5"
      },
      "execution_count": null,
      "outputs": []
    },
    {
      "cell_type": "code",
      "source": [
        "pred=model.predict_generator(test_set)\n",
        "y_pred = np.argmax(pred, axis=1)\n",
        "y_true = test_set.classes"
      ],
      "metadata": {
        "execution": {
          "iopub.status.busy": "2024-02-08T14:32:42.972541Z",
          "iopub.execute_input": "2024-02-08T14:32:42.972962Z",
          "iopub.status.idle": "2024-02-08T14:33:09.683204Z",
          "shell.execute_reply.started": "2024-02-08T14:32:42.972931Z",
          "shell.execute_reply": "2024-02-08T14:33:09.682123Z"
        },
        "trusted": true,
        "id": "gO-_599PUHD6"
      },
      "execution_count": null,
      "outputs": []
    },
    {
      "cell_type": "code",
      "source": [
        "y_pred"
      ],
      "metadata": {
        "execution": {
          "iopub.status.busy": "2024-02-08T14:34:13.690715Z",
          "iopub.execute_input": "2024-02-08T14:34:13.691412Z",
          "iopub.status.idle": "2024-02-08T14:34:13.697722Z",
          "shell.execute_reply.started": "2024-02-08T14:34:13.691381Z",
          "shell.execute_reply": "2024-02-08T14:34:13.696789Z"
        },
        "trusted": true,
        "id": "VcJ9HQIcUHD6"
      },
      "execution_count": null,
      "outputs": []
    },
    {
      "cell_type": "code",
      "source": [
        "from sklearn.metrics import confusion_matrix\n",
        "import seaborn as sns\n",
        "\n",
        "conf_matrix = confusion_matrix(y_true, y_pred)\n",
        "\n",
        "# Plot heatmap\n",
        "plt.figure(figsize=(10, 8))\n",
        "sns.heatmap(conf_matrix, annot=True, fmt='d', cmap='YlOrBr')\n",
        "\n",
        "# Add labels and title\n",
        "plt.xlabel('Predicted labels')\n",
        "plt.ylabel('Actual labels')\n",
        "plt.title('Confusion Matrix')\n",
        "\n",
        "# Display the heatmap\n",
        "plt.show()"
      ],
      "metadata": {
        "execution": {
          "iopub.status.busy": "2024-02-08T14:44:44.673499Z",
          "iopub.execute_input": "2024-02-08T14:44:44.674196Z",
          "iopub.status.idle": "2024-02-08T14:44:47.934252Z",
          "shell.execute_reply.started": "2024-02-08T14:44:44.674156Z",
          "shell.execute_reply": "2024-02-08T14:44:47.933206Z"
        },
        "trusted": true,
        "id": "jtUl6HQCUHD6"
      },
      "execution_count": null,
      "outputs": []
    }
  ]
}