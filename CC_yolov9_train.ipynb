{
 "cells": [
  {
   "cell_type": "code",
   "execution_count": null,
   "metadata": {},
   "outputs": [],
   "source": [
    "%pip install roboflow"
   ]
  },
  {
   "cell_type": "code",
   "execution_count": 2,
   "metadata": {},
   "outputs": [],
   "source": [
    "from roboflow import Roboflow\n",
    "from apikey import ROBOFLOW_API_KEY"
   ]
  },
  {
   "cell_type": "code",
   "execution_count": 3,
   "metadata": {},
   "outputs": [
    {
     "name": "stdout",
     "output_type": "stream",
     "text": [
      "loading Roboflow workspace...\n",
      "loading Roboflow project...\n"
     ]
    }
   ],
   "source": [
    "rf = Roboflow(api_key=ROBOFLOW_API_KEY)\n",
    "project = rf.workspace().project(\"food-project-utiem\")\n",
    "model = project.version(\"2\").model"
   ]
  },
  {
   "cell_type": "code",
   "execution_count": 7,
   "metadata": {},
   "outputs": [],
   "source": [
    "pred=model.predict(\"test/test_image1.jpg\",confidence=1,overlap=30).json()\n"
   ]
  },
  {
   "cell_type": "code",
   "execution_count": 8,
   "metadata": {},
   "outputs": [
    {
     "name": "stdout",
     "output_type": "stream",
     "text": [
      "Meat - 0.44307175278663635\n",
      "Ginger - 0.1865205317735672\n",
      "Chicken - 0.17971910536289215\n",
      "Tomato - 0.1685684472322464\n",
      "Eggs - 0.08413126319646835\n",
      "Tomato - 0.0738273337483406\n",
      "Eggs - 0.06703704595565796\n",
      "Eggs - 0.027847591787576675\n",
      "Eggs - 0.013478199951350689\n"
     ]
    }
   ],
   "source": [
    "for prediction in pred['predictions']:\n",
    "    print(prediction['class'],\"-\",prediction['confidence'])"
   ]
  },
  {
   "cell_type": "code",
   "execution_count": 17,
   "metadata": {},
   "outputs": [],
   "source": [
    "import cv2\n",
    "vid=cv2.VideoCapture(\"test/992601-hd_1920_1080_25fps.mp4\")\n",
    "fps=int(vid.get(cv2.CAP_PROP_FPS))\n",
    "count=int(vid.get(cv2.CAP_PROP_FRAME_COUNT))"
   ]
  },
  {
   "cell_type": "code",
   "execution_count": 19,
   "metadata": {},
   "outputs": [],
   "source": [
    "\n",
    "result_set=set()\n",
    "for i in range(1,count,fps):\n",
    "    ret,frame=vid.read()\n",
    "    if ret:\n",
    "        results=model.predict(frame,confidence=1,overlap=30).json()\n",
    "        for prediction in results['predictions']:\n",
    "            if prediction['class'] not in result_set:\n",
    "                result_set.add(prediction['class'])\n",
    "    else:\n",
    "        break\n"
   ]
  },
  {
   "cell_type": "code",
   "execution_count": 20,
   "metadata": {},
   "outputs": [
    {
     "data": {
      "text/plain": [
       "set()"
      ]
     },
     "execution_count": 20,
     "metadata": {},
     "output_type": "execute_result"
    }
   ],
   "source": [
    "result_set"
   ]
  }
 ],
 "metadata": {
  "kernelspec": {
   "display_name": "Python 3",
   "language": "python",
   "name": "python3"
  },
  "language_info": {
   "codemirror_mode": {
    "name": "ipython",
    "version": 3
   },
   "file_extension": ".py",
   "mimetype": "text/x-python",
   "name": "python",
   "nbconvert_exporter": "python",
   "pygments_lexer": "ipython3",
   "version": "3.10.13"
  }
 },
 "nbformat": 4,
 "nbformat_minor": 2
}
